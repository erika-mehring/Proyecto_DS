{
 "cells": [
  {
   "attachments": {},
   "cell_type": "markdown",
   "metadata": {},
   "source": [
    "Siento que estas consignas ya fueron desarrolladas en el ProyectoDS_ParteIII_Mehring.ipynb. Si bien no he hecho un análisis de overfitting, al haber spliteado mis datos en una parte para testear y la otra para entrenar y haber tenido precisión, sensibilidad y exactitud del 100% al analizar los datos de testeo, creo que se puede descartar el overfitting."
   ]
  }
 ],
 "metadata": {
  "language_info": {
   "name": "python"
  },
  "orig_nbformat": 4
 },
 "nbformat": 4,
 "nbformat_minor": 2
}
