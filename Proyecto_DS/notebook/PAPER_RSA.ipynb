{
 "cells": [
  {
   "cell_type": "code",
   "execution_count": 39,
   "metadata": {},
   "outputs": [
    {
     "name": "stdout",
     "output_type": "stream",
     "text": [
      "Step 1: Binary representation of 13 is [1, 1, 0, 1]\n",
      "Step 2: C = 1\n",
      "Step 3a: C = 1 = (1)^2 mod 1073\n",
      "Step 3b: e_i = 1\n",
      "so C = 605 = (1)^2 x 605 mod 1073\n",
      "Step 3a: C = 132 = ((1)^2 x 605)^2 mod 1073\n",
      "Step 3b: e_i = 1\n",
      "so C = 458 = ((1)^2 x 605)^2 x 605 mod 1073\n",
      "Step 3a: C = 529 = (((1)^2 x 605)^2 x 605)^2 mod 1073\n",
      "Step 3b: e_i = 0\n",
      "so don't change C\n",
      "Step 3a: C = 861 = ((((1)^2 x 605)^2 x 605)^2)^2 mod 1073\n",
      "Step 3b: e_i = 1\n",
      "so C = 500 = ((((1)^2 x 605)^2 x 605)^2)^2 x 605 mod 1073\n"
     ]
    }
   ],
   "source": [
    "## PAGINA 8 DEL PAPER \n",
    "#representacion binaria del numero entero e\n",
    "def binary(e):\n",
    "    bits = []\n",
    "    while e > 0:\n",
    "        b = e % 2\n",
    "        bits.append(b)\n",
    "        e = e >> 1\n",
    "    bits.reverse()\n",
    "    return bits\n",
    "\n",
    "#exponenciacion modular M a la e (en binario)\n",
    "def pow(M, e, n):\n",
    "    bits = binary(e)\n",
    "    print(\"Step 1: Binary representation of %d is %r\" % (e, bits))\n",
    "    C = 1\n",
    "    strC = \"1\"\n",
    "    print(\"Step 2: C = %s\" % (strC))\n",
    "    for e_i in bits:\n",
    "        C = (C * C) % n\n",
    "        strC = \"(%s)^2\" % strC\n",
    "        print(\"Step 3a: C = %d = %s mod %d\" % (C, strC, n))\n",
    "        print(\"Step 3b: e_i = %d\" % e_i)\n",
    "        if e_i == 1:\n",
    "            C = (C * M) % n\n",
    "            strC = \"%s x %s\" % (strC, M)\n",
    "            print(\"so C = %d = %s mod %d\" % (C, strC, n))\n",
    "        else:\n",
    "            print(\"so don't change C\")\n",
    "\n",
    "#M,e,n\n",
    "pow(605, 13, 1073)\n"
   ]
  }
 ],
 "metadata": {
  "kernelspec": {
   "display_name": "Python 3",
   "language": "python",
   "name": "python3"
  },
  "language_info": {
   "codemirror_mode": {
    "name": "ipython",
    "version": 3
   },
   "file_extension": ".py",
   "mimetype": "text/x-python",
   "name": "python",
   "nbconvert_exporter": "python",
   "pygments_lexer": "ipython3",
   "version": "3.10.4"
  },
  "orig_nbformat": 4
 },
 "nbformat": 4,
 "nbformat_minor": 2
}
