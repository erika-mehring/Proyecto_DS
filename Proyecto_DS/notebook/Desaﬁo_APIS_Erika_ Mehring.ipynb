{
 "cells": [
  {
   "attachments": {},
   "cell_type": "markdown",
   "metadata": {},
   "source": [
    "Teniendo en cuenta la entrega llamada \"Datasets_Mehring.ipynb\", se utilizará una API relacionada con el dataset https://www.kaggle.com/datasets/mattop/anage-animal-ageing-and-longevity-data"
   ]
  },
  {
   "cell_type": "code",
   "execution_count": 1,
   "metadata": {},
   "outputs": [],
   "source": [
    "import pandas as pd\n",
    "import numpy as np\n",
    "import requests\n",
    "import json\n"
   ]
  },
  {
   "cell_type": "code",
   "execution_count": 2,
   "metadata": {},
   "outputs": [],
   "source": [
    "df_anag=pd.read_csv('/workspaces/codespaces-blank/Proyecto_DS/datasets/raw/animalageing.csv')"
   ]
  },
  {
   "cell_type": "code",
   "execution_count": 3,
   "metadata": {},
   "outputs": [
    {
     "data": {
      "text/html": [
       "<div>\n",
       "<style scoped>\n",
       "    .dataframe tbody tr th:only-of-type {\n",
       "        vertical-align: middle;\n",
       "    }\n",
       "\n",
       "    .dataframe tbody tr th {\n",
       "        vertical-align: top;\n",
       "    }\n",
       "\n",
       "    .dataframe thead th {\n",
       "        text-align: right;\n",
       "    }\n",
       "</style>\n",
       "<table border=\"1\" class=\"dataframe\">\n",
       "  <thead>\n",
       "    <tr style=\"text-align: right;\">\n",
       "      <th></th>\n",
       "      <th>HAGRID</th>\n",
       "      <th>Kingdom</th>\n",
       "      <th>Phylum</th>\n",
       "      <th>Class</th>\n",
       "      <th>Order</th>\n",
       "      <th>Family</th>\n",
       "      <th>Genus</th>\n",
       "      <th>Species</th>\n",
       "      <th>Common name</th>\n",
       "      <th>Female maturity (days)</th>\n",
       "      <th>...</th>\n",
       "      <th>Source</th>\n",
       "      <th>Specimen origin</th>\n",
       "      <th>Sample size</th>\n",
       "      <th>Data quality</th>\n",
       "      <th>IMR (per yr)</th>\n",
       "      <th>MRDT (yrs)</th>\n",
       "      <th>Metabolic rate (W)</th>\n",
       "      <th>Body mass (g)</th>\n",
       "      <th>Temperature (K)</th>\n",
       "      <th>References</th>\n",
       "    </tr>\n",
       "  </thead>\n",
       "  <tbody>\n",
       "    <tr>\n",
       "      <th>0</th>\n",
       "      <td>3</td>\n",
       "      <td>Animalia</td>\n",
       "      <td>Arthropoda</td>\n",
       "      <td>Branchiopoda</td>\n",
       "      <td>Diplostraca</td>\n",
       "      <td>Daphniidae</td>\n",
       "      <td>Daphnia</td>\n",
       "      <td>pulicaria</td>\n",
       "      <td>Daphnia</td>\n",
       "      <td>NaN</td>\n",
       "      <td>...</td>\n",
       "      <td>NaN</td>\n",
       "      <td>unknown</td>\n",
       "      <td>medium</td>\n",
       "      <td>acceptable</td>\n",
       "      <td>NaN</td>\n",
       "      <td>NaN</td>\n",
       "      <td>NaN</td>\n",
       "      <td>NaN</td>\n",
       "      <td>NaN</td>\n",
       "      <td>1294,1295,1296</td>\n",
       "    </tr>\n",
       "    <tr>\n",
       "      <th>1</th>\n",
       "      <td>5</td>\n",
       "      <td>Animalia</td>\n",
       "      <td>Arthropoda</td>\n",
       "      <td>Insecta</td>\n",
       "      <td>Diptera</td>\n",
       "      <td>Drosophilidae</td>\n",
       "      <td>Drosophila</td>\n",
       "      <td>melanogaster</td>\n",
       "      <td>Fruit fly</td>\n",
       "      <td>7.0</td>\n",
       "      <td>...</td>\n",
       "      <td>NaN</td>\n",
       "      <td>captivity</td>\n",
       "      <td>large</td>\n",
       "      <td>acceptable</td>\n",
       "      <td>0.05</td>\n",
       "      <td>0.04</td>\n",
       "      <td>NaN</td>\n",
       "      <td>NaN</td>\n",
       "      <td>NaN</td>\n",
       "      <td>2,20,32,47,53,68,69,240,241,242,243,274,602,98...</td>\n",
       "    </tr>\n",
       "    <tr>\n",
       "      <th>2</th>\n",
       "      <td>6</td>\n",
       "      <td>Animalia</td>\n",
       "      <td>Arthropoda</td>\n",
       "      <td>Insecta</td>\n",
       "      <td>Hymenoptera</td>\n",
       "      <td>Apidae</td>\n",
       "      <td>Apis</td>\n",
       "      <td>mellifera</td>\n",
       "      <td>Honey bee</td>\n",
       "      <td>NaN</td>\n",
       "      <td>...</td>\n",
       "      <td>812</td>\n",
       "      <td>unknown</td>\n",
       "      <td>medium</td>\n",
       "      <td>acceptable</td>\n",
       "      <td>NaN</td>\n",
       "      <td>NaN</td>\n",
       "      <td>NaN</td>\n",
       "      <td>NaN</td>\n",
       "      <td>NaN</td>\n",
       "      <td>63,407,408,741,805,806,808,812,815,828,830,831...</td>\n",
       "    </tr>\n",
       "    <tr>\n",
       "      <th>3</th>\n",
       "      <td>8</td>\n",
       "      <td>Animalia</td>\n",
       "      <td>Arthropoda</td>\n",
       "      <td>Insecta</td>\n",
       "      <td>Hymenoptera</td>\n",
       "      <td>Formicidae</td>\n",
       "      <td>Cardiocondyla</td>\n",
       "      <td>obscurior</td>\n",
       "      <td>Cardiocondyla obscurior</td>\n",
       "      <td>NaN</td>\n",
       "      <td>...</td>\n",
       "      <td>1293</td>\n",
       "      <td>captivity</td>\n",
       "      <td>medium</td>\n",
       "      <td>acceptable</td>\n",
       "      <td>NaN</td>\n",
       "      <td>NaN</td>\n",
       "      <td>NaN</td>\n",
       "      <td>NaN</td>\n",
       "      <td>NaN</td>\n",
       "      <td>1293</td>\n",
       "    </tr>\n",
       "    <tr>\n",
       "      <th>4</th>\n",
       "      <td>9</td>\n",
       "      <td>Animalia</td>\n",
       "      <td>Arthropoda</td>\n",
       "      <td>Insecta</td>\n",
       "      <td>Hymenoptera</td>\n",
       "      <td>Formicidae</td>\n",
       "      <td>Lasius</td>\n",
       "      <td>niger</td>\n",
       "      <td>Black garden ant</td>\n",
       "      <td>NaN</td>\n",
       "      <td>...</td>\n",
       "      <td>411</td>\n",
       "      <td>unknown</td>\n",
       "      <td>medium</td>\n",
       "      <td>acceptable</td>\n",
       "      <td>NaN</td>\n",
       "      <td>NaN</td>\n",
       "      <td>NaN</td>\n",
       "      <td>NaN</td>\n",
       "      <td>NaN</td>\n",
       "      <td>411,813,814</td>\n",
       "    </tr>\n",
       "  </tbody>\n",
       "</table>\n",
       "<p>5 rows × 31 columns</p>\n",
       "</div>"
      ],
      "text/plain": [
       "   HAGRID   Kingdom      Phylum         Class        Order         Family  \\\n",
       "0       3  Animalia  Arthropoda  Branchiopoda  Diplostraca     Daphniidae   \n",
       "1       5  Animalia  Arthropoda       Insecta      Diptera  Drosophilidae   \n",
       "2       6  Animalia  Arthropoda       Insecta  Hymenoptera         Apidae   \n",
       "3       8  Animalia  Arthropoda       Insecta  Hymenoptera     Formicidae   \n",
       "4       9  Animalia  Arthropoda       Insecta  Hymenoptera     Formicidae   \n",
       "\n",
       "           Genus       Species              Common name  \\\n",
       "0        Daphnia     pulicaria                  Daphnia   \n",
       "1     Drosophila  melanogaster                Fruit fly   \n",
       "2           Apis     mellifera                Honey bee   \n",
       "3  Cardiocondyla     obscurior  Cardiocondyla obscurior   \n",
       "4         Lasius         niger         Black garden ant   \n",
       "\n",
       "   Female maturity (days)  ...  Source  Specimen origin  Sample size  \\\n",
       "0                     NaN  ...     NaN          unknown       medium   \n",
       "1                     7.0  ...     NaN        captivity        large   \n",
       "2                     NaN  ...     812          unknown       medium   \n",
       "3                     NaN  ...    1293        captivity       medium   \n",
       "4                     NaN  ...     411          unknown       medium   \n",
       "\n",
       "   Data quality  IMR (per yr)  MRDT (yrs)  Metabolic rate (W)  Body mass (g)  \\\n",
       "0    acceptable           NaN         NaN                 NaN            NaN   \n",
       "1    acceptable          0.05        0.04                 NaN            NaN   \n",
       "2    acceptable           NaN         NaN                 NaN            NaN   \n",
       "3    acceptable           NaN         NaN                 NaN            NaN   \n",
       "4    acceptable           NaN         NaN                 NaN            NaN   \n",
       "\n",
       "   Temperature (K)                                         References  \n",
       "0              NaN                                     1294,1295,1296  \n",
       "1              NaN  2,20,32,47,53,68,69,240,241,242,243,274,602,98...  \n",
       "2              NaN  63,407,408,741,805,806,808,812,815,828,830,831...  \n",
       "3              NaN                                               1293  \n",
       "4              NaN                                        411,813,814  \n",
       "\n",
       "[5 rows x 31 columns]"
      ]
     },
     "execution_count": 3,
     "metadata": {},
     "output_type": "execute_result"
    }
   ],
   "source": [
    "df_anag.head()"
   ]
  },
  {
   "attachments": {},
   "cell_type": "markdown",
   "metadata": {},
   "source": [
    "Por lo tanto se usará la API de la siguiente página:\n",
    "http://apiv3.iucnredlist.org/api/v3/docs"
   ]
  },
  {
   "cell_type": "code",
   "execution_count": 4,
   "metadata": {},
   "outputs": [
    {
     "name": "stdout",
     "output_type": "stream",
     "text": [
      "Get:1 https://packages.microsoft.com/repos/microsoft-ubuntu-focal-prod focal InRelease [3611 B]\n",
      "Get:2 https://repo.anaconda.com/pkgs/misc/debrepo/conda stable InRelease [3960 B]\n",
      "Get:3 https://dl.yarnpkg.com/debian stable InRelease [17.1 kB]                 \n",
      "Hit:4 http://archive.ubuntu.com/ubuntu focal InRelease                         \n",
      "Get:5 http://security.ubuntu.com/ubuntu focal-security InRelease [114 kB]\n",
      "Get:6 http://archive.ubuntu.com/ubuntu focal-updates InRelease [114 kB]        \n",
      "Get:7 https://packages.microsoft.com/repos/microsoft-ubuntu-focal-prod focal/main amd64 Packages [192 kB]\n",
      "Get:9 https://repo.anaconda.com/pkgs/misc/debrepo/conda stable/main amd64 Packages [2120 B]\n",
      "Err:3 https://dl.yarnpkg.com/debian stable InRelease              \n",
      "  The following signatures were invalid: EXPKEYSIG 23E7166788B63E1E Yarn Packaging <yarn@dan.cx>\n",
      "Get:10 http://archive.ubuntu.com/ubuntu focal-backports InRelease [108 kB]     \n",
      "Hit:8 https://packagecloud.io/github/git-lfs/ubuntu focal InRelease            \n",
      "Get:11 http://security.ubuntu.com/ubuntu focal-security/universe amd64 Packages [1028 kB]\n",
      "Get:12 http://security.ubuntu.com/ubuntu focal-security/restricted amd64 Packages [2060 kB]\n",
      "Get:13 http://security.ubuntu.com/ubuntu focal-security/main amd64 Packages [2590 kB]\n",
      "Get:14 http://security.ubuntu.com/ubuntu focal-security/multiverse amd64 Packages [28.5 kB]\n",
      "Get:15 http://archive.ubuntu.com/ubuntu focal-updates/universe amd64 Packages [1324 kB]\n",
      "Get:16 http://archive.ubuntu.com/ubuntu focal-updates/restricted amd64 Packages [2199 kB]\n",
      "Get:17 http://archive.ubuntu.com/ubuntu focal-updates/multiverse amd64 Packages [31.3 kB]\n",
      "Get:18 http://archive.ubuntu.com/ubuntu focal-updates/main amd64 Packages [3069 kB]\n",
      "Reading package lists... Done                           \n",
      "W: GPG error: https://dl.yarnpkg.com/debian stable InRelease: The following signatures were invalid: EXPKEYSIG 23E7166788B63E1E Yarn Packaging <yarn@dan.cx>\n",
      "E: The repository 'https://dl.yarnpkg.com/debian stable InRelease' is not signed.\n",
      "N: Updating from such a repository can't be done securely, and is therefore disabled by default.\n",
      "N: See apt-secure(8) manpage for repository creation and user configuration details.\n",
      "E: Command line option --y is not understood in combination with the other options\n"
     ]
    }
   ],
   "source": [
    "!sudo apt-get update \n",
    "!sudo apt-get install git-crypt --y\n"
   ]
  },
  {
   "attachments": {},
   "cell_type": "markdown",
   "metadata": {},
   "source": [
    "Como todavía no me enviaron el token solicitado, se hará el trabajo con una API cualquiera, no relacionado con un dataset previamente elegido, y se actualizará cuando el token sea proporcionado.\n",
    "\n",
    "Se usará la API de YouTube 'YouTube Data API v3' ya que la misma no es paga."
   ]
  },
  {
   "cell_type": "code",
   "execution_count": 5,
   "metadata": {},
   "outputs": [],
   "source": [
    "import configparser"
   ]
  },
  {
   "cell_type": "code",
   "execution_count": 6,
   "metadata": {},
   "outputs": [],
   "source": [
    "config = configparser.ConfigParser()\n",
    "config.read('api_key.txt')\n",
    "\n",
    "api_key = config.get('API', 'api_key')"
   ]
  },
  {
   "cell_type": "code",
   "execution_count": 7,
   "metadata": {},
   "outputs": [
    {
     "name": "stdout",
     "output_type": "stream",
     "text": [
      "Requirement already satisfied: google-api-python-client in /usr/local/python/3.10.4/lib/python3.10/site-packages (2.83.0)\n",
      "Requirement already satisfied: uritemplate<5,>=3.0.1 in /usr/local/python/3.10.4/lib/python3.10/site-packages (from google-api-python-client) (4.1.1)\n",
      "Requirement already satisfied: google-auth<3.0.0dev,>=1.19.0 in /usr/local/python/3.10.4/lib/python3.10/site-packages (from google-api-python-client) (2.17.1)\n",
      "Requirement already satisfied: google-auth-httplib2>=0.1.0 in /usr/local/python/3.10.4/lib/python3.10/site-packages (from google-api-python-client) (0.1.0)\n",
      "Requirement already satisfied: google-api-core!=2.0.*,!=2.1.*,!=2.2.*,!=2.3.0,<3.0.0dev,>=1.31.5 in /usr/local/python/3.10.4/lib/python3.10/site-packages (from google-api-python-client) (2.11.0)\n",
      "Requirement already satisfied: httplib2<1dev,>=0.15.0 in /usr/local/python/3.10.4/lib/python3.10/site-packages (from google-api-python-client) (0.22.0)\n",
      "Requirement already satisfied: protobuf!=3.20.0,!=3.20.1,!=4.21.0,!=4.21.1,!=4.21.2,!=4.21.3,!=4.21.4,!=4.21.5,<5.0.0dev,>=3.19.5 in /usr/local/python/3.10.4/lib/python3.10/site-packages (from google-api-core!=2.0.*,!=2.1.*,!=2.2.*,!=2.3.0,<3.0.0dev,>=1.31.5->google-api-python-client) (4.22.1)\n",
      "Requirement already satisfied: requests<3.0.0dev,>=2.18.0 in /home/codespace/.local/lib/python3.10/site-packages (from google-api-core!=2.0.*,!=2.1.*,!=2.2.*,!=2.3.0,<3.0.0dev,>=1.31.5->google-api-python-client) (2.28.1)\n",
      "Requirement already satisfied: googleapis-common-protos<2.0dev,>=1.56.2 in /usr/local/python/3.10.4/lib/python3.10/site-packages (from google-api-core!=2.0.*,!=2.1.*,!=2.2.*,!=2.3.0,<3.0.0dev,>=1.31.5->google-api-python-client) (1.59.0)\n",
      "Requirement already satisfied: pyasn1-modules>=0.2.1 in /usr/local/python/3.10.4/lib/python3.10/site-packages (from google-auth<3.0.0dev,>=1.19.0->google-api-python-client) (0.2.8)\n",
      "Requirement already satisfied: cachetools<6.0,>=2.0.0 in /usr/local/python/3.10.4/lib/python3.10/site-packages (from google-auth<3.0.0dev,>=1.19.0->google-api-python-client) (5.3.0)\n",
      "Requirement already satisfied: six>=1.9.0 in /home/codespace/.local/lib/python3.10/site-packages (from google-auth<3.0.0dev,>=1.19.0->google-api-python-client) (1.16.0)\n",
      "Requirement already satisfied: rsa<5,>=3.1.4 in /usr/local/python/3.10.4/lib/python3.10/site-packages (from google-auth<3.0.0dev,>=1.19.0->google-api-python-client) (4.9)\n",
      "Requirement already satisfied: pyparsing!=3.0.0,!=3.0.1,!=3.0.2,!=3.0.3,<4,>=2.4.2 in /home/codespace/.local/lib/python3.10/site-packages (from httplib2<1dev,>=0.15.0->google-api-python-client) (3.0.9)\n",
      "Requirement already satisfied: pyasn1<0.5.0,>=0.4.6 in /usr/local/python/3.10.4/lib/python3.10/site-packages (from pyasn1-modules>=0.2.1->google-auth<3.0.0dev,>=1.19.0->google-api-python-client) (0.4.8)\n",
      "Requirement already satisfied: charset-normalizer<3,>=2 in /home/codespace/.local/lib/python3.10/site-packages (from requests<3.0.0dev,>=2.18.0->google-api-core!=2.0.*,!=2.1.*,!=2.2.*,!=2.3.0,<3.0.0dev,>=1.31.5->google-api-python-client) (2.1.1)\n",
      "Requirement already satisfied: urllib3<1.27,>=1.21.1 in /home/codespace/.local/lib/python3.10/site-packages (from requests<3.0.0dev,>=2.18.0->google-api-core!=2.0.*,!=2.1.*,!=2.2.*,!=2.3.0,<3.0.0dev,>=1.31.5->google-api-python-client) (1.26.13)\n",
      "Requirement already satisfied: certifi>=2017.4.17 in /home/codespace/.local/lib/python3.10/site-packages (from requests<3.0.0dev,>=2.18.0->google-api-core!=2.0.*,!=2.1.*,!=2.2.*,!=2.3.0,<3.0.0dev,>=1.31.5->google-api-python-client) (2022.12.7)\n",
      "Requirement already satisfied: idna<4,>=2.5 in /home/codespace/.local/lib/python3.10/site-packages (from requests<3.0.0dev,>=2.18.0->google-api-core!=2.0.*,!=2.1.*,!=2.2.*,!=2.3.0,<3.0.0dev,>=1.31.5->google-api-python-client) (3.4)\n"
     ]
    }
   ],
   "source": [
    "!pip install google-api-python-client"
   ]
  },
  {
   "cell_type": "code",
   "execution_count": 8,
   "metadata": {},
   "outputs": [],
   "source": [
    "from googleapiclient.discovery import build\n",
    "from google.oauth2 import service_account\n",
    "api_key = config.get('API', 'api_key')\n",
    "\n",
    "youtube_erika= build('youtube','v3',developerKey=api_key)\n",
    "def search_videos(query):\n",
    "    request = youtube_erika.search().list(\n",
    "        part='snippet',\n",
    "        q=query,\n",
    "        type='video'\n",
    "    )\n",
    "    response = request.execute()\n",
    "    return response['items']\n",
    "\n",
    "videos = search_videos('jazz')\n",
    "with open('videos.txt', 'w') as f:\n",
    "    print(videos, file=f)"
   ]
  },
  {
   "cell_type": "code",
   "execution_count": 9,
   "metadata": {},
   "outputs": [
    {
     "name": "stdout",
     "output_type": "stream",
     "text": [
      "[{'kind': 'youtube#searchResult', 'etag': '7qywBQSp65pAWoKLKG58Bu4ILoU', 'id': {'kind': 'youtube#video', 'videoId': 'OUQ_8_61YXc'}, 'snippet': {'publishedAt': '2023-04-07T19:36:22Z', 'channelId': 'UCaCE5pzy49M8nQ59plgmFOA', 'title': 'Saturday Morning Jazz - Sweet Weekend Jazz &amp; Bossa Nova Music', 'description': 'The best of happy morning jazz and positive bossa nova music by Richard Freeman! Great choice for background music when ...', 'thumbnails': {'default': {'url': 'https://i.ytimg.com/vi/OUQ_8_61YXc/default_live.jpg', 'width': 120, 'height': 90}, 'medium': {'url': 'https://i.ytimg.com/vi/OUQ_8_61YXc/mqdefault_live.jpg', 'width': 320, 'height': 180}, 'high': {'url': 'https://i.ytimg.com/vi/OUQ_8_61YXc/hqdefault_live.jpg', 'width': 480, 'height': 360}}, 'channelTitle': 'Relax Cafe Music', 'liveBroadcastContent': 'live', 'publishTime': '2023-04-07T19:36:22Z'}}, {'kind': 'youtube#searchResult', 'etag': '_Ggtd9XApfXxYOkSzHjDrkftTOs', 'id': {'kind': 'youtube#video', 'videoId': 'GcYRKgsr53E'}, 'snippet': {'publishedAt': '2023-04-08T11:02:02Z', 'channelId': 'UCKvKjZ3l9azWz4F49q2R3tQ', 'title': 'Soft Jazz Music For Study, Work ☕ Cozy Coffee Shop Ambience | Relaxing Jazz Instrumental Music', 'description': 'Soft Jazz Music For Study, Work ☕ Cozy Coffee Shop Ambience | Relaxing Jazz Instrumental Music Take a break and relax with ...', 'thumbnails': {'default': {'url': 'https://i.ytimg.com/vi/GcYRKgsr53E/default.jpg', 'width': 120, 'height': 90}, 'medium': {'url': 'https://i.ytimg.com/vi/GcYRKgsr53E/mqdefault.jpg', 'width': 320, 'height': 180}, 'high': {'url': 'https://i.ytimg.com/vi/GcYRKgsr53E/hqdefault.jpg', 'width': 480, 'height': 360}}, 'channelTitle': 'Coffee Relaxing Jazz', 'liveBroadcastContent': 'none', 'publishTime': '2023-04-08T11:02:02Z'}}, {'kind': 'youtube#searchResult', 'etag': 'xht0f69WtJQyh-RbP2QpSjGcCaA', 'id': {'kind': 'youtube#video', 'videoId': 'On1rwZMlBfM'}, 'snippet': {'publishedAt': '2023-04-07T15:29:30Z', 'channelId': 'UCJhjE7wbdYAae1G25m0tHAA', 'title': 'SATURDAY MORNING JAZZ: Soothing Jazz &amp; Bossa Nova Instrumentals for Weekend Bliss', 'description': 'Listen Everywhere → Good Morning SATURDAY: https://lnk.to/WR8WmoEB. Please Subscribe!', 'thumbnails': {'default': {'url': 'https://i.ytimg.com/vi/On1rwZMlBfM/default_live.jpg', 'width': 120, 'height': 90}, 'medium': {'url': 'https://i.ytimg.com/vi/On1rwZMlBfM/mqdefault_live.jpg', 'width': 320, 'height': 180}, 'high': {'url': 'https://i.ytimg.com/vi/On1rwZMlBfM/hqdefault_live.jpg', 'width': 480, 'height': 360}}, 'channelTitle': 'Cafe Music BGM channel', 'liveBroadcastContent': 'live', 'publishTime': '2023-04-07T15:29:30Z'}}, {'kind': 'youtube#searchResult', 'etag': 'r_j1BltJIR3Jzw03B_w5zf8AJm4', 'id': {'kind': 'youtube#video', 'videoId': 'TQyX7MdFGbo'}, 'snippet': {'publishedAt': '2023-04-07T07:28:35Z', 'channelId': 'UCeGJ6v6KQt0s88hGKMfybuw', 'title': 'Saturday Morning Jazz: Sweet Spring Jazz &amp; Exquisite April Bossa Nova for a relaxing weekend', 'description': 'Saturday Morning Jazz: Sweet Spring Jazz & Exquisite April Bossa Nova for a relaxing weekend ...', 'thumbnails': {'default': {'url': 'https://i.ytimg.com/vi/TQyX7MdFGbo/default_live.jpg', 'width': 120, 'height': 90}, 'medium': {'url': 'https://i.ytimg.com/vi/TQyX7MdFGbo/mqdefault_live.jpg', 'width': 320, 'height': 180}, 'high': {'url': 'https://i.ytimg.com/vi/TQyX7MdFGbo/hqdefault_live.jpg', 'width': 480, 'height': 360}}, 'channelTitle': 'Cozy Jazz Music', 'liveBroadcastContent': 'live', 'publishTime': '2023-04-07T07:28:35Z'}}, {'kind': 'youtube#searchResult', 'etag': 'xH7hjlOn-UpDaVRoslmBBHZXfXQ', 'id': {'kind': 'youtube#video', 'videoId': 'atzeNvML3Pk'}, 'snippet': {'publishedAt': '2023-04-08T06:07:55Z', 'channelId': 'UCIWAwKP3_KcWned5aLqZHtw', 'title': 'Relaxing Spring Day Jazz Music at Bookstore Cafe Ambience ☕Mellow April Jazz Music for Work,Studying', 'description': 'Relaxing Spring Day Jazz Music at Bookstore Cafe Ambience ☕Mellow April Jazz Music for Work,Studying Good morning ...', 'thumbnails': {'default': {'url': 'https://i.ytimg.com/vi/atzeNvML3Pk/default.jpg', 'width': 120, 'height': 90}, 'medium': {'url': 'https://i.ytimg.com/vi/atzeNvML3Pk/mqdefault.jpg', 'width': 320, 'height': 180}, 'high': {'url': 'https://i.ytimg.com/vi/atzeNvML3Pk/hqdefault.jpg', 'width': 480, 'height': 360}}, 'channelTitle': 'Cozy Coffee Shop', 'liveBroadcastContent': 'none', 'publishTime': '2023-04-08T06:07:55Z'}}]\n"
     ]
    }
   ],
   "source": [
    "df=videos\n",
    "print(df)"
   ]
  }
 ],
 "metadata": {
  "kernelspec": {
   "display_name": "Python 3",
   "language": "python",
   "name": "python3"
  },
  "language_info": {
   "codemirror_mode": {
    "name": "ipython",
    "version": 3
   },
   "file_extension": ".py",
   "mimetype": "text/x-python",
   "name": "python",
   "nbconvert_exporter": "python",
   "pygments_lexer": "ipython3",
   "version": "3.10.4"
  },
  "orig_nbformat": 4
 },
 "nbformat": 4,
 "nbformat_minor": 2
}
